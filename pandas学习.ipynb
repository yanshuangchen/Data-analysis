{
 "cells": [
  {
   "cell_type": "markdown",
   "metadata": {},
   "source": [
    "# Pandas入门"
   ]
  },
  {
   "cell_type": "markdown",
   "metadata": {},
   "source": [
    "`ctrl`+`enter`代表运行本单元  \n",
    "`enter`代表编辑单元  \n",
    "`b`代表插入一个单元格    \n",
    "`y`代表转化位`python`  \n",
    "`m`代表转化位`markdown`语言  \n",
    "`dd`代表删除选中的单元格\n"
   ]
  },
  {
   "cell_type": "markdown",
   "metadata": {},
   "source": [
    "## 1 Series"
   ]
  },
  {
   "cell_type": "markdown",
   "metadata": {},
   "source": [
    "### 1.1 由ndarray创建系列"
   ]
  },
  {
   "cell_type": "code",
   "execution_count": null,
   "metadata": {},
   "outputs": [],
   "source": [
    "import pandas as pd\n",
    "import numpy as np\n",
    "data=np.array(['a','b','c','d'])\n",
    "df=pd.Series(data)\n",
    "print(\"ndarray创建实例：\\n{}\".format(df))\n",
    "print(\"\\n\")\n",
    "# 修改index\n",
    "df=pd.Series(data,index=[1001,1002,1003,1004])\n",
    "print(\"ndarray创建实例：\\n{}\".format(df))\n"
   ]
  },
  {
   "cell_type": "markdown",
   "metadata": {},
   "source": [
    "### 1.2 由字典创建序列"
   ]
  },
  {
   "cell_type": "code",
   "execution_count": null,
   "metadata": {},
   "outputs": [],
   "source": [
    "import pandas as pd\n",
    "# 键和值\n",
    "data_dict={'a':0,'b':1,'c':2,}\n",
    "s_pd=pd.Series(data_dict)\n",
    "print(\"由字典创建序列:\\n{}\".format(s_pd))\n",
    "\n",
    "s_pd=pd.Series(data_dict,index=['c','b','a','d'])\n",
    "print(\"由字典创建序列:\\n{}\".format(s_pd))"
   ]
  },
  {
   "cell_type": "markdown",
   "metadata": {},
   "source": [
    "### 1.3 由标量创建序列"
   ]
  },
  {
   "cell_type": "code",
   "execution_count": null,
   "metadata": {},
   "outputs": [],
   "source": [
    "df=pd.Series(5,index=[0,1,2,3])\n",
    "df"
   ]
  },
  {
   "cell_type": "markdown",
   "metadata": {},
   "source": [
    "### 1.4 从系列中访问数据"
   ]
  },
  {
   "cell_type": "code",
   "execution_count": null,
   "metadata": {},
   "outputs": [],
   "source": [
    "df=pd.Series([1,2,3,4,5],index=['c','b','a','d','e'])\n",
    "print(df[4])\n",
    "# 输出前三个元素\n",
    "print(df[:3])\n",
    "# 输出两个元素，输出第二个和第三个元素\n",
    "print(df[1:3])\n",
    "# 输出最后三个元素\n",
    "print(df[-3:])"
   ]
  },
  {
   "cell_type": "markdown",
   "metadata": {},
   "source": [
    "### 1.5 使用标签检索数据"
   ]
  },
  {
   "cell_type": "code",
   "execution_count": null,
   "metadata": {},
   "outputs": [],
   "source": [
    "# 前面是数据，后面是标签\n",
    "df=pd.Series([1,2,3,4,5],index=['c','b','a','d','e'])\n",
    "print(df['a'])"
   ]
  },
  {
   "cell_type": "markdown",
   "metadata": {},
   "source": [
    "## 2 Dataframe"
   ]
  },
  {
   "cell_type": "markdown",
   "metadata": {},
   "source": [
    "### 2.1 使用列表创建数据帧"
   ]
  },
  {
   "cell_type": "code",
   "execution_count": null,
   "metadata": {},
   "outputs": [],
   "source": [
    "import pandas as pd\n",
    "data=[1,2,3,4,5]\n",
    "df=pd.DataFrame(data)\n",
    "print(df)\n",
    "# 使用嵌套列表创建数据帧\n",
    "data=[['ji',20],['ye',18],['sun',19]]\n",
    "# 用dtype来设置指定类型\n",
    "df=pd.DataFrame(data,columns=['Name','Age'])\n",
    "print(df)"
   ]
  },
  {
   "cell_type": "markdown",
   "metadata": {},
   "source": [
    "### 2.2 使用字典创建数据帧"
   ]
  },
  {
   "cell_type": "code",
   "execution_count": null,
   "metadata": {},
   "outputs": [],
   "source": [
    "import pandas as pd\n",
    "data={'name':['q','w','m','h'],'age':[20,30,40,50]}\n",
    "# 可以在后面建立标签\n",
    "df=pd.DataFrame(data,index=[1,2,3,4])\n",
    "print(df)"
   ]
  },
  {
   "cell_type": "code",
   "execution_count": null,
   "metadata": {},
   "outputs": [],
   "source": [
    "import pandas as pd\n",
    "data=[{'a':1,'b':2},{'a':3,'b':4,'c':5}]\n",
    "# 可以在后面建立标签,选取特定列\n",
    "df=pd.DataFrame(data,index=['first','second'],columns=['a'])\n",
    "print(df)"
   ]
  },
  {
   "cell_type": "markdown",
   "metadata": {},
   "source": [
    "### 2.3 列选择、添加、删除"
   ]
  },
  {
   "cell_type": "code",
   "execution_count": null,
   "metadata": {},
   "outputs": [],
   "source": [
    "import numpy as np\n",
    "df=pd.DataFrame(np.random.rand(3,4))\n",
    "print(df)\n",
    "print(pd.DataFrame(df,columns=[1,2]))\n",
    "print(df[[1,2]])"
   ]
  },
  {
   "cell_type": "code",
   "execution_count": null,
   "metadata": {},
   "outputs": [],
   "source": [
    "import pandas as pd\n",
    " \n",
    "#create DataFrame\n",
    "df = pd.DataFrame({'points': [25, 12, 15, 14, 19],\n",
    "                   'assists': [5, 7, 7, 9, 12],\n",
    "                   'rebounds': [11, 8, 10, 6, 6]})\n",
    "\n",
    "# 通过四则运算能够创建处新的列出来\n",
    "df['sum']=df['points']+df['assists']\n",
    "print(df)"
   ]
  },
  {
   "cell_type": "code",
   "execution_count": null,
   "metadata": {},
   "outputs": [],
   "source": [
    "import pandas as pd\n",
    " \n",
    "#create DataFrame\n",
    "df = pd.DataFrame({'points': [25, 12, 15, 14, 19],\n",
    "                   'assists': [5, 7, 7, 9, 12],\n",
    "                   'rebounds': [11, 8, 10, 6, 6]})\n",
    "# del函数代表着删除功能\n",
    "del df['points']\n",
    "print(df)"
   ]
  },
  {
   "cell_type": "markdown",
   "metadata": {},
   "source": [
    "### 2.4 行选择、添加和删除"
   ]
  },
  {
   "cell_type": "code",
   "execution_count": null,
   "metadata": {},
   "outputs": [],
   "source": [
    "import pandas as pd\n",
    "data={'name':['q','w','m','h'],'age':[20,30,40,50]}\n",
    "# 可以在后面建立标签\n",
    "df=pd.DataFrame(data,index=['Fir','Sec','Thi','For'])\n",
    "print(df.loc['Fir'])\n",
    "# 用数字标签给iloc函数来选择行\n",
    "print(df.iloc[0:3])"
   ]
  },
  {
   "cell_type": "code",
   "execution_count": null,
   "metadata": {},
   "outputs": [],
   "source": [
    "import pandas as pd\n",
    "data={'name':['q','w','m','h'],'age':[20,30,40,50]}\n",
    "# 可以在后面建立标签\n",
    "df=pd.DataFrame(data,index=['Fir','Sec','Thi','For'])\n",
    "print(df[1:3])"
   ]
  },
  {
   "cell_type": "code",
   "execution_count": null,
   "metadata": {},
   "outputs": [],
   "source": [
    "import pandas as pd\n",
    "data={'name':['q','w','m','h'],'age':[20,30,40,50]}\n",
    "# 可以在后面建立标签\n",
    "df=pd.DataFrame(data,index=['Fir','Sec','Thi','For'])\n",
    "data1={'name':['q','w','m','h'],'age':[20,30,40,50]}\n",
    "df1=pd.DataFrame(data1,index=['Fir','Sec','Thi','For'])\n",
    "# 合并行\n",
    "df=df.append(df1)\n",
    "print(df)\n",
    "\n",
    "# 去掉特定标签的数据\n",
    "df=df.drop('Fir')\n",
    "print(df)"
   ]
  },
  {
   "cell_type": "markdown",
   "metadata": {},
   "source": [
    "## 3 基本功能"
   ]
  },
  {
   "cell_type": "markdown",
   "metadata": {},
   "source": [
    "### 3.1 转置"
   ]
  },
  {
   "cell_type": "code",
   "execution_count": null,
   "metadata": {},
   "outputs": [],
   "source": [
    "import pandas as pd\n",
    " \n",
    "#create DataFrame\n",
    "df = pd.DataFrame({'points': [25, 12, 15, 14, 19],\n",
    "                   'assists': [5, 7, 7, 9, 12],\n",
    "                   'rebounds': [11, 8, 10, 6, 6]})\n",
    "print(df)\n",
    "print(df.T)"
   ]
  },
  {
   "cell_type": "markdown",
   "metadata": {},
   "source": [
    "### 3.2 axes"
   ]
  },
  {
   "cell_type": "code",
   "execution_count": null,
   "metadata": {},
   "outputs": [],
   "source": [
    "import pandas as pd\n",
    " \n",
    "#create DataFrame\n",
    "df = pd.DataFrame({'points': [25, 12, 15, 14, 19],\n",
    "                   'assists': [5, 7, 7, 9, 12],\n",
    "                   'rebounds': [11, 8, 10, 6, 6]})\n",
    "print(df)\n",
    "# 输出行轴标签和列轴标签列表\n",
    "print(df.axes)"
   ]
  },
  {
   "cell_type": "markdown",
   "metadata": {},
   "source": [
    "### 3.3 dtypes"
   ]
  },
  {
   "cell_type": "code",
   "execution_count": null,
   "metadata": {},
   "outputs": [],
   "source": [
    "import pandas as pd\n",
    " \n",
    "#create DataFrame\n",
    "df = pd.DataFrame({'points': [25, 12, 15, 14, 19],\n",
    "                   'assists': [5, 7, 7, 9, 12],\n",
    "                   'rebounds': [11, 8, 10, 6, 6]})\n",
    "print(df.dtypes)"
   ]
  },
  {
   "cell_type": "markdown",
   "metadata": {},
   "source": [
    "### 3.4 empty"
   ]
  },
  {
   "cell_type": "code",
   "execution_count": null,
   "metadata": {},
   "outputs": [],
   "source": [
    "import pandas as pd\n",
    " \n",
    "#create DataFrame\n",
    "df = pd.DataFrame({'points': [25, 12, 15, 14, 19],\n",
    "                   'assists': [5, 7, 7, 9, 12],\n",
    "                   'rebounds': [11, 8, 10, 6, 6]})\n",
    "print(df.empty)"
   ]
  },
  {
   "cell_type": "markdown",
   "metadata": {},
   "source": [
    "### 3.5 size&shape&values"
   ]
  },
  {
   "cell_type": "code",
   "execution_count": null,
   "metadata": {},
   "outputs": [],
   "source": [
    "import pandas as pd\n",
    " \n",
    "#create DataFrame\n",
    "df = pd.DataFrame({'points': [25, 12, 15, 14, 19],\n",
    "                   'assists': [5, 7, 7, 9, 12],\n",
    "                   'rebounds': [11, 8, 10, 6, 6]})\n",
    "print(df.shape)\n",
    "print(df.size)\n",
    "# 不要漏掉其中的花括号\n",
    "print(\"数据框架中的实际数据是:\\n{}\".format(df.values))\n",
    "print(df.values)"
   ]
  },
  {
   "cell_type": "markdown",
   "metadata": {},
   "source": [
    "### 3.6 head()&&tail()"
   ]
  },
  {
   "cell_type": "code",
   "execution_count": null,
   "metadata": {},
   "outputs": [],
   "source": [
    "import pandas as pd\n",
    " \n",
    "#create DataFrame\n",
    "df = pd.DataFrame({'points': [25, 12, 15, 14, 19],\n",
    "                   'assists': [5, 7, 7, 9, 12],\n",
    "                   'rebounds': [11, 8, 10, 6, 6]})\n",
    "# 查看前3行\n",
    "print(df.head(3))\n",
    "# 查看后3行\n",
    "print(df.tail(3))"
   ]
  },
  {
   "cell_type": "markdown",
   "metadata": {},
   "source": [
    "## 4 描述性统计"
   ]
  },
  {
   "cell_type": "markdown",
   "metadata": {},
   "source": [
    "### 4.1 sum&&mean&&std&&describe"
   ]
  },
  {
   "cell_type": "code",
   "execution_count": null,
   "metadata": {},
   "outputs": [],
   "source": [
    "import pandas as pd\n",
    " \n",
    "#create DataFrame\n",
    "df = pd.DataFrame({'points': [25, 12, 15, 14, 19],\n",
    "                   'assists': [5, 7, 7, 9, 12],\n",
    "                   'rebounds': [11, 8, 10, 6, 6]})\n",
    "print(df.sum())\n",
    "# 当里面写了1时，就是代表各行中各列相加\n",
    "print(df.mean())\n",
    "# 求标准差\n",
    "print(df.std())\n",
    "print(df.describe())"
   ]
  },
  {
   "cell_type": "markdown",
   "metadata": {},
   "source": [
    "## 5 重建索引"
   ]
  },
  {
   "cell_type": "markdown",
   "metadata": {},
   "source": [
    "### 5.1 重建对象对齐索引"
   ]
  },
  {
   "cell_type": "code",
   "execution_count": null,
   "metadata": {},
   "outputs": [],
   "source": [
    "import pandas as pd\n",
    "import numpy as np\n",
    "\n",
    "df_1=pd.DataFrame(np.random.randn(10,3),columns=['c1','c2','c3'])\n",
    "df_2=pd.DataFrame(np.random.randn(7,3),columns=['c1','c2','c3'])\n",
    "print(df_1)\n",
    "df_1=df_1.reindex_like(df_2)\n",
    "print(df_1)"
   ]
  },
  {
   "cell_type": "markdown",
   "metadata": {},
   "source": [
    "### 5.2 填充时重新加注"
   ]
  },
  {
   "cell_type": "code",
   "execution_count": null,
   "metadata": {},
   "outputs": [],
   "source": [
    "import pandas as pd\n",
    "import numpy as np\n",
    "\n",
    "df_1=pd.DataFrame(np.random.randn(10,3),columns=['c1','c2','c3'])\n",
    "df_2=pd.DataFrame(np.random.randn(7,3),columns=['c1','c2','c3'])\n",
    "print(df_2.reindex_like(df_1))\n",
    "print(df_2.reindex_like(df_1,method='ffill'))\n",
    "print(df_2.reindex_like(df_1,method='ffill',limit=1))"
   ]
  },
  {
   "cell_type": "markdown",
   "metadata": {},
   "source": [
    "### 5.3 重命名"
   ]
  },
  {
   "cell_type": "code",
   "execution_count": null,
   "metadata": {},
   "outputs": [],
   "source": [
    "import pandas as pd\n",
    "import numpy as np\n",
    "\n",
    "df_1=pd.DataFrame(np.random.randn(6,3),columns=['c1','c2','c3'])\n",
    "df_2=pd.DataFrame(np.random.randn(7,3),columns=['c1','c2','c3'])\n",
    "# 用这种方法可以重命名行和列\n",
    "print(df_1.rename(columns={'col':'c1','col2':'c2'},index={0:'apple',1:'banana',2:'durain'}))\n"
   ]
  },
  {
   "cell_type": "markdown",
   "metadata": {},
   "source": [
    "## 6 排序"
   ]
  },
  {
   "cell_type": "markdown",
   "metadata": {},
   "source": [
    "### 6.1 按照标题进行排序"
   ]
  },
  {
   "cell_type": "code",
   "execution_count": null,
   "metadata": {},
   "outputs": [],
   "source": [
    "import pandas as pd\n",
    "import numpy as np\n",
    "un_sorted_df=pd.DataFrame(np.random.randn(10,2),index=[1,4,6,2,3,5,9,8,0,7],columns=['col1','col2'])\n",
    "print(un_sorted_df)\n",
    "sorted_df=un_sorted_df.sort_index()\n",
    "print(sorted_df)\n",
    "### 代表倒序排序\n",
    "sorted_df=un_sorted_df.sort_index(ascending=False)\n",
    "print(sorted_df)\n",
    "### 对列索引进行排序\n",
    "sorted_df=un_sorted_df.sort_index(axis=1)\n",
    "print(sorted_df)\n"
   ]
  },
  {
   "cell_type": "markdown",
   "metadata": {},
   "source": [
    "### 6.2 按值排序"
   ]
  },
  {
   "cell_type": "code",
   "execution_count": null,
   "metadata": {},
   "outputs": [],
   "source": [
    "import pandas as pd\n",
    "import numpy as np\n",
    "un_sorted_df=pd.DataFrame(np.random.randn(10,2),index=[1,4,6,2,3,5,9,8,0,7],columns=['col1','col2'])\n",
    "print(un_sorted_df)\n",
    "# 接受col1作为参数进行数据比较\n",
    "sorted_df=un_sorted_df.sort_values(by='col1',kind='mergesort')\n",
    "print(sorted_df)"
   ]
  },
  {
   "cell_type": "markdown",
   "metadata": {},
   "source": [
    "## 7 字符串和文本数据"
   ]
  },
  {
   "cell_type": "code",
   "execution_count": null,
   "metadata": {},
   "outputs": [],
   "source": [
    "import pandas as pd\n",
    "import numpy as np\n",
    "str_list=['  meGn  ','Gi','mi','M@y',np.nan,'12 3','ji Shuang']\n",
    "pd_str=pd.Series(str_list)\n",
    "print(pd_str.str.lower())\n",
    "print(pd_str.str.upper())\n",
    "# 统计出列表中每一份字符串的字符个数\n",
    "print(pd_str.str.len())\n",
    "# 删除字符串开头和结尾的空格 \n",
    "print(pd_str.str.strip())"
   ]
  },
  {
   "cell_type": "code",
   "execution_count": null,
   "metadata": {},
   "outputs": [],
   "source": [
    "import pandas as pd\n",
    "import numpy as np\n",
    "str_list=['  meGn  ','Gi','mi','M@y',np.nan,'12 3','ji Shuang']\n",
    "pd_str=pd.Series(str_list)\n",
    "# 拆分每一个字符串\n",
    "print(pd_str.str.split())\n",
    "# 用指定符号连接字符串\n",
    "print(pd_str.str.cat(sep='<=>'))\n",
    "# 查找某一个字符串是否包含指定字符\n",
    "print(pd_str.str.contains('ji'))\n",
    "# 将特定字符转换位其他字符\n",
    "print(pd_str.str.replace('i','jini'))\n",
    "# 重复每个元素指定的次数\n",
    "print(\"\\n{}\".format(pd_str.str.repeat(2)))\n"
   ]
  },
  {
   "cell_type": "code",
   "execution_count": null,
   "metadata": {},
   "outputs": [],
   "source": [
    "import pandas as pd\n",
    "import numpy as np\n",
    "str_list=['  jeGn  ','Ji','ji','j@y',np.nan,'12 j3','ji Shuang']\n",
    "pd_str=pd.Series(str_list)\n",
    "# 统计每个元素出现的次数\n",
    "print(pd_str.str.count('i'))\n",
    "# 判断字符串是否以某个元素开头\n",
    "print(pd_str.str.startswith('j'))\n",
    "# 判断是否以某个元素结尾\n",
    "print(pd_str.str.endswith('g'))\n",
    "# 判断某个元素在字符串中第一次出现的位置\n",
    "print(pd_str.str.find('@'))"
   ]
  },
  {
   "cell_type": "code",
   "execution_count": null,
   "metadata": {},
   "outputs": [],
   "source": [
    "import pandas as pd\n",
    "import numpy as np\n",
    "str_list=['  jeGn  ','Ji','ji','j@y',np.nan,'12 j3','ji Shuang']\n",
    "pd_str=pd.Series(str_list)\n",
    "print(pd_str.str.findall('i'))\n",
    "# 变换字母大小写\n",
    "print(pd_str.str.swapcase())\n",
    "# 检查字母是否为小写\n",
    "print(pd_str.str.islower())\n",
    "print(pd_str.str.isupper())\n",
    "# 检查是否都为数字\n",
    "print(pd_str.str.isnumeric())"
   ]
  },
  {
   "cell_type": "markdown",
   "metadata": {},
   "source": [
    "## 8 选择和索引数据"
   ]
  },
  {
   "cell_type": "code",
   "execution_count": null,
   "metadata": {},
   "outputs": [],
   "source": [
    "import pandas as pd\n",
    "import numpy as np\n",
    "df=pd.DataFrame(np.random.randn(8,4),\n",
    "                index=['a','b','c','d','e','f','g','h'],columns=['A','B','C','D'])\n",
    "print(df)\n",
    "# 通过loc的方式是通过基于标签的方式进行索引\n",
    "print(df.loc[:,'B'])\n",
    "print(df.loc[:,['A','C']])\n",
    "print(df.loc[['a','b','c','d'],['A','C']])\n",
    "print(df.loc['a':'h'])\n",
    "# 最后一个是一个bool结果\n",
    "print(df.loc['a'] > 0)\n"
   ]
  },
  {
   "cell_type": "code",
   "execution_count": null,
   "metadata": {},
   "outputs": [],
   "source": [
    "import pandas as pd\n",
    "import numpy as np\n",
    "df=pd.DataFrame(np.random.randn(8,4),columns=['A','B','C','D'])\n",
    "print(df)\n",
    "print(df.iloc[:4])\n",
    "print(df.iloc[1:5,2:4])\n",
    "print(df.iloc[[1,2,5],[1,3]])\n",
    "print(df.iloc[1:3,:])\n",
    "print(df.iloc[:,1:3])"
   ]
  },
  {
   "cell_type": "markdown",
   "metadata": {},
   "source": [
    "# Pandas进阶"
   ]
  },
  {
   "cell_type": "markdown",
   "metadata": {},
   "source": [
    "## 1 统计函数"
   ]
  },
  {
   "cell_type": "code",
   "execution_count": null,
   "metadata": {},
   "outputs": [],
   "source": [
    "import pandas as pd\n",
    "import numpy as np\n",
    "pd_str=pd.Series([1,2,3,4,5,4])\n",
    "# 该函数用来计算出后面元素较前面元素变化百分比\n",
    "print(pd_str.pct_change())"
   ]
  },
  {
   "cell_type": "code",
   "execution_count": null,
   "metadata": {},
   "outputs": [],
   "source": [
    "import pandas as pd\n",
    "\n",
    "s1 = pd.Series([1, 2, 3, 4, 5])\n",
    "s2 = pd.Series([5, 4, 3, 2, 1])\n",
    "# 用该函数计算出协方差\n",
    "covariance = s1.cov(s2)\n",
    "print(covariance)"
   ]
  },
  {
   "cell_type": "code",
   "execution_count": null,
   "metadata": {},
   "outputs": [],
   "source": [
    "import pandas as pd\n",
    "\n",
    "data = {\n",
    "    'A': [1, 2, 3, 4, 5],\n",
    "    'B': [5, 4, 3, 2, 1],\n",
    "    'C': [2, 4, 6, 8, 10],\n",
    "    'D': [3, 6, 9, 12, 15]\n",
    "}\n",
    "df = pd.DataFrame(data)\n",
    "# 在括号中添加上计算相关性的方法\n",
    "# 方法由pearson kendall spearman\n",
    "# 至少有两个非空值才进行计算\n",
    "correlation_matrix = df.corr(method='pearson',min_periods=2)\n",
    "print(correlation_matrix)"
   ]
  },
  {
   "cell_type": "code",
   "execution_count": null,
   "metadata": {},
   "outputs": [],
   "source": [
    "import pandas as pd\n",
    "data = {'Name': ['Alice', 'Bob', 'Charlie', 'David'],\n",
    "        'Score': [80, 75, 90, 85]}\n",
    "# 用rank函数计算出排名\n",
    "df = pd.DataFrame(data)\n",
    "df['Rank'] = df['Score'].rank(ascending=False, method='min')\n",
    "print(df)"
   ]
  },
  {
   "cell_type": "markdown",
   "metadata": {},
   "source": [
    "* method 参数：  \n",
    "        1.'average'（默认）：如果有相同的值，将为它们分配平均排名。例如，如果有两个相同的值排在第2和第3位，则它们将被分配为第2.5名。  \n",
    "        2.'min'：将为相同的值分配最小的排名。例如，如果有两个相同的值排在第2和第3位，则它们都将被分配为第2名。  \n",
    "        3.'max'：将为相同的值分配最大的排名。例如，如果有两个相同的值排在第2和第3位，则它们都将被分配为第3名。  \n",
    "        4.'first'：按照它们在数据中出现的顺序分配排名。例如，如果有两个相同的值排在第2和第3位，则第2个值将被分配为第2名，第3个值将被分配为第3名。    \n",
    "        5.'dense'：与 'min' 类似，但会跳过排名之间的空位。例如，如果有两个相同的值排在第2和第3位，则它们都将被分配为第2名，下一个唯一值将被分配为第3名。  \n",
    "* ascending 参数：  \n",
    "        1.True（默认）：按升序对数据进行排名。  \n",
    "        2.False：按降序对数据进行排名。  \n",
    "* na_option 参数：  \n",
    "        1.'keep'（默认）：将缺失值保留为 NaN。  \n",
    "        2.'top'：将缺失值排在最前面（最大排名）。  \n",
    "        3.'bottom'：将缺失值排在最后面（最小排名）。  "
   ]
  },
  {
   "cell_type": "markdown",
   "metadata": {},
   "source": [
    "## 2 窗口函数\n",
    "  "
   ]
  },
  {
   "cell_type": "code",
   "execution_count": null,
   "metadata": {},
   "outputs": [],
   "source": [
    "import pandas as pd\n",
    "data = {'date': ['2021-01-01', '2021-01-02', '2021-01-03', '2021-01-04', '2021-01-05'],\n",
    "        'value': [10, 20, 30, 40, 50]}\n",
    "df = pd.DataFrame(data)\n",
    "df['rolling_mean'] = df['value'].rolling(window=3).mean()\n",
    "print(df)"
   ]
  },
  {
   "cell_type": "code",
   "execution_count": null,
   "metadata": {},
   "outputs": [],
   "source": [
    "import pandas as pd\n",
    "data = {'date': ['2021-01-01', '2021-01-02', '2021-01-03', '2021-01-04', '2021-01-05'],\n",
    "        'value': [10, 20, 30, 40, 50]}\n",
    "df = pd.DataFrame(data)\n",
    "df['expanding_sum'] = df['value'].expanding().sum()\n",
    "df['expanding_mean'] = df['value'].expanding().mean()\n",
    "print(df)"
   ]
  },
  {
   "cell_type": "code",
   "execution_count": null,
   "metadata": {},
   "outputs": [],
   "source": [
    "import pandas as pd\n",
    "\n",
    "data = {'date': ['2021-01-01', '2021-01-02', '2021-01-03', '2021-01-04', '2021-01-05'],\n",
    "        'value': [10, 20, 30, 40, 50]}\n",
    "\n",
    "df = pd.DataFrame(data)\n",
    "\n",
    "df['ewma'] = df['value'].ewm(alpha=0.5).mean()\n",
    "\n",
    "print(df)"
   ]
  },
  {
   "cell_type": "markdown",
   "metadata": {},
   "source": [
    "## 3 聚合"
   ]
  },
  {
   "cell_type": "code",
   "execution_count": null,
   "metadata": {},
   "outputs": [],
   "source": [
    "import numpy as np\n",
    "import pandas as pd\n",
    "# 计算出sum、mean等\n",
    "df = pd.DataFrame({'A': [1, 2, 3], 'B': [4, 5, 6]})\n",
    "result = df.aggregate(np.sum)\n",
    "print(result)\n",
    "\n",
    "result = df.aggregate({'A': np.mean, 'B': np.sum})\n",
    "print(result)\n",
    "# 是每行进行聚合\n",
    "result = df.aggregate(np.sum, axis=1)\n",
    "print(result)"
   ]
  },
  {
   "cell_type": "markdown",
   "metadata": {},
   "source": [
    "## 4 缺失数据"
   ]
  },
  {
   "cell_type": "code",
   "execution_count": null,
   "metadata": {},
   "outputs": [],
   "source": [
    "import pandas as pd\n",
    "import numpy as np\n",
    "df=pd.DataFrame(np.random.randn(3,3),index=['a','c','e'],columns=['one','two','three'])\n",
    "df=df.reindex(['a','b','c','d','e'])\n",
    "print(df)\n",
    "print(df['one'].isnull())\n",
    "# 求和时缺失值是为0\n",
    "print(df['one'].sum())"
   ]
  },
  {
   "cell_type": "markdown",
   "metadata": {},
   "source": [
    "### 4.1 缺失值填充"
   ]
  },
  {
   "cell_type": "markdown",
   "metadata": {},
   "source": [
    "* df.fillna(value=None, method=None, axis=None, inplace=False, limit=None)\n",
    "* value：要填充的值，可以是一个标量值、字典或Series。默认为None。\n",
    "* method：填充缺失值的方法，例如'ffill'（向前填充）或'bfill'（向后填充）。默认为None，表示使用指定的值进行填充。\n",
    "* axis：指定填充的轴，0表示按列填充，1表示按行填充。默认为None，表示按列填充。\n",
    "* inplace：指定是否在原地修改DataFrame，如果为True，则直接修改原始DataFrame。默认为False。\n",
    "* limit：在前向或后向填充时，指定每个缺失值连续填充的最大数量。"
   ]
  },
  {
   "cell_type": "markdown",
   "metadata": {},
   "source": [
    "* 也可以使用如下代码来进行值的替换  \n",
    "  \n",
    "        print(df.replace({1000:10,2000:60}))"
   ]
  },
  {
   "cell_type": "code",
   "execution_count": null,
   "metadata": {},
   "outputs": [],
   "source": [
    "import pandas as pd\n",
    "import numpy as np\n",
    "\n",
    "# 创建示例DataFrame\n",
    "data = {'A': [1, 2, None, 4, 5], 'B': [None, 6, 7, None, 9]}\n",
    "df = pd.DataFrame(data)\n",
    "print(\"原始DataFrame:\")\n",
    "print(df)\n",
    "\n",
    "# 使用指定值填充缺失数据\n",
    "filled_df = df.fillna(value=0)\n",
    "print(\"\\n使用指定值填充缺失数据:\")\n",
    "print(filled_df)\n",
    "\n",
    "# 使用前一个非缺失值向前填充缺失数据\n",
    "filled_df = df.fillna(method='ffill')\n",
    "print(\"\\n使用前一个非缺失值向前填充缺失数据:\")\n",
    "print(filled_df)\n",
    "\n",
    "# 使用后一个非缺失值向后填充缺失数据\n",
    "filled_df = df.fillna(method='bfill')\n",
    "print(\"\\n使用后一个非缺失值向后填充缺失数据:\")\n",
    "print(filled_df)\n",
    "\n",
    "# 按列或行填充缺失数据\n",
    "filled_df = df.fillna(method='ffill', axis=0)  # 按列填充\n",
    "print(\"\\n按列填充缺失数据:\")\n",
    "print(filled_df)\n",
    "\n",
    "filled_df = df.fillna(method='ffill', axis=1)  # 按行填充\n",
    "print(\"\\n按行填充缺失数据:\")\n",
    "print(filled_df)\n",
    "\n",
    "# 使用列的平均值填充缺失数据\n",
    "mean_values = df.mean()\n",
    "filled_df = df.fillna(value=mean_values)\n",
    "print(\"\\n使用列的平均值填充缺失数据:\")\n",
    "print(filled_df)\n",
    "\n",
    "# 使用列的中位数填充缺失数据\n",
    "median_values = df.median()\n",
    "filled_df = df.fillna(value=median_values)\n",
    "print(\"\\n使用列的中位数填充缺失数据:\")\n",
    "print(filled_df)\n",
    "\n",
    "# 使用自定义字典填充缺失数据\n",
    "fill_values = {'A': 10, 'B': 20}\n",
    "filled_df = df.fillna(value=fill_values)\n",
    "print(\"\\n使用自定义字典填充缺失数据:\")\n",
    "print(filled_df)\n",
    "\n",
    "# 在前向填充时限制连续填充的最大数量\n",
    "filled_df = df.fillna(method='ffill', limit=1)\n",
    "print(\"\\n在前向填充时限制连续填充的最大数量:\")\n",
    "print(filled_df)"
   ]
  },
  {
   "cell_type": "markdown",
   "metadata": {},
   "source": [
    "### 4.2 清除缺失值"
   ]
  },
  {
   "cell_type": "markdown",
   "metadata": {},
   "source": [
    "`dropna`函数的基本用法  \n",
    "        \n",
    "    df.dropna(axis=0, how='any', thresh=None, subset=None, inplace=False)  \n",
    "* axis：指定删除的轴，0表示删除包含缺失值的行，1表示删除包含缺失值的列。\n",
    "* how：指定删除的方式，有以下取值：\n",
    "    * 'any'：只要某行或某列存在缺失值，则删除该行或该列（默认）。\n",
    "    * 'all'：只有某行或某列所有元素都是缺失值时，才删除该行或该列。\n",
    "* thresh：指定保留行或列的最小非缺失值数量。如果行或列中的非缺失值数量小于该阈值，则删除该行或该列。\n",
    "* subset：指定要考虑的列或行的子集，可以是单个列名或行标签，也可以是列名或行标签的列表。\n",
    "* inplace：指定是否在原地修改DataFrame，如果为True，则直接修改原始DataFrame。"
   ]
  },
  {
   "cell_type": "code",
   "execution_count": null,
   "metadata": {},
   "outputs": [],
   "source": [
    "import pandas as pd\n",
    "import numpy as np\n",
    "\n",
    "# 创建示例DataFrame\n",
    "data = {'A': [1, 2, None, 4, 5], 'B': [None, 6, 7, None, 9]}\n",
    "df = pd.DataFrame(data)\n",
    "print(\"原始DataFrame:\")\n",
    "print(df)\n",
    "\n",
    "# 删除包含缺失值的行\n",
    "clean_df = df.dropna(axis=0)\n",
    "print(\"\\n删除包含缺失值的行:\")\n",
    "print(clean_df)\n",
    "\n",
    "# 删除包含缺失值的列\n",
    "clean_df = df.dropna(axis=1)\n",
    "print(\"\\n删除包含缺失值的列:\")\n",
    "print(clean_df)\n",
    "\n",
    "# 只删除所有元素都是缺失值的行\n",
    "df = pd.DataFrame({'A': [None, None, None], 'B': [4, 5, 6]})\n",
    "clean_df = df.dropna(how='all')\n",
    "print(\"\\n只删除所有元素都是缺失值的行:\")\n",
    "print(clean_df)\n",
    "\n",
    "# 保留至少有2个非缺失值的行\n",
    "clean_df = df.dropna(thresh=2)\n",
    "print(\"\\n保留至少有2个非缺失值的行:\")\n",
    "print(clean_df)\n",
    "\n",
    "# 根据指定的子集列进行缺失值删除\n",
    "clean_df = df.dropna(subset=['A'])\n",
    "print(\"\\n根据指定的子集列进行缺失值删除:\")\n",
    "print(clean_df)"
   ]
  },
  {
   "cell_type": "markdown",
   "metadata": {},
   "source": [
    "## 5 分组"
   ]
  },
  {
   "cell_type": "markdown",
   "metadata": {},
   "source": [
    "groupby函数的基本使用方法\n",
    "\n",
    "    grouped = df.groupby(by, axis=0, level=None, as_index=True, sort=True, group_keys=True, squeeze=False, observed=False, **kwargs)\n",
    "* by：指定分组依据的列名或列名列表。可以是单个列名的字符串，也可以是多个列名组成的列表。\n",
    "* axis：指定分组的轴，0表示按行分组，1表示按列分组，默认为0。\n",
    "* level：如果数据具有层次化索引（MultiIndex），则可以指定要使用的索引级别进行分组。\n",
    "* as_index：指定是否以分组的列作为索引，默认为True，即将分组的列作为索引，如果设置为False，分组的列将作为普通列。\n",
    "* sort：指定是否对分组结果进行排序，默认为True。\n",
    "* group_keys：指定是否在结果中包含分组键，默认为True。\n",
    "* squeeze：指定是否对结果进行降维，如果分组结果只有一个分组键，则降维为Series，默认为False。\n",
    "* observed：指定是否观察分组键中的所有值，默认为False，表示观察所有值；设置为True时，表示只观察实际出现的值。"
   ]
  },
  {
   "cell_type": "code",
   "execution_count": 2,
   "metadata": {},
   "outputs": [
    {
     "name": "stdout",
     "output_type": "stream",
     "text": [
      "原始DataFrame:\n",
      "      Name  Age  Salary\n",
      "0    Alice   25    5000\n",
      "1      Bob   30    6000\n",
      "2  Charlie   35    7000\n",
      "3    Alice   40    8000\n",
      "4      Bob   45    9000\n",
      "groupby后的数据帧\n",
      "{'Alice': [0, 3], 'Bob': [1, 4], 'Charlie': [2]}\n",
      "\n",
      "按姓名分组，计算平均薪资:\n",
      "Name\n",
      "Alice      6500.0\n",
      "Bob        7500.0\n",
      "Charlie    7000.0\n",
      "Name: Salary, dtype: float64\n",
      "\n",
      "按姓名和年龄分组，计算薪资总和:\n",
      "Name     Age\n",
      "Alice    25     5000\n",
      "         40     8000\n",
      "Bob      30     6000\n",
      "         45     9000\n",
      "Charlie  35     7000\n",
      "Name: Salary, dtype: int64\n",
      "\n",
      "按姓名分组，计算年龄范围:\n",
      "Name\n",
      "Alice      15\n",
      "Bob        15\n",
      "Charlie     0\n",
      "Name: Age, dtype: int64\n",
      "\n",
      "筛选出至少有两个数据的分组:\n",
      "    Name  Age  Salary\n",
      "0  Alice   25    5000\n",
      "1    Bob   30    6000\n",
      "3  Alice   40    8000\n",
      "4    Bob   45    9000\n"
     ]
    }
   ],
   "source": [
    "import pandas as pd\n",
    "\n",
    "# 创建示例DataFrame\n",
    "data = {'Name': ['Alice', 'Bob', 'Charlie', 'Alice', 'Bob'],\n",
    "        'Age': [25, 30, 35, 40, 45],\n",
    "        'Salary': [5000, 6000, 7000, 8000, 9000]}\n",
    "df = pd.DataFrame(data)\n",
    "print(\"原始DataFrame:\")\n",
    "print(df)\n",
    "\n",
    "# 对单列进行分组，并计算分组后的平均值\n",
    "grouped = df.groupby('Name')\n",
    "print(\"groupby后的数据帧\")\n",
    "# 显示出的是index\n",
    "print(grouped.groups)\n",
    "mean_salary = grouped['Salary'].mean()\n",
    "print(\"\\n按姓名分组，计算平均薪资:\")\n",
    "print(mean_salary)\n",
    "\n",
    "# 对多列进行分组，并计算分组后的总和\n",
    "grouped = df.groupby(['Name', 'Age'])\n",
    "total_salary = grouped['Salary'].sum()\n",
    "print(\"\\n按姓名和年龄分组，计算薪资总和:\")\n",
    "print(total_salary)\n",
    "\n",
    "# 使用自定义聚合函数对分组进行操作\n",
    "def age_range(x):\n",
    "    return max(x) - min(x)\n",
    "\n",
    "grouped = df.groupby('Name')\n",
    "age_span = grouped['Age'].agg(age_range)\n",
    "print(\"\\n按姓名分组，计算年龄范围:\")\n",
    "print(age_span)\n",
    "\n",
    "# 对分组结果进行筛选\n",
    "grouped = df.groupby('Name')\n",
    "filtered = grouped.filter(lambda x: len(x) > 1)\n",
    "print(\"\\n筛选出至少有两个数据的分组:\")\n",
    "print(filtered)"
   ]
  },
  {
   "cell_type": "code",
   "execution_count": 5,
   "metadata": {},
   "outputs": [
    {
     "name": "stdout",
     "output_type": "stream",
     "text": [
      "   销售数量    销售金额      \n",
      "    sum    mean   max\n",
      "产品                   \n",
      "A    25   625.0   750\n",
      "B    45  1125.0  1250\n"
     ]
    }
   ],
   "source": [
    "import pandas as pd\n",
    "\n",
    "# 创建数据集\n",
    "data = {'产品': ['A', 'A', 'B', 'B'],\n",
    "        '城市': ['城市1', '城市2', '城市1', '城市2'],\n",
    "        '销售数量': [10, 15, 20, 25],\n",
    "        '销售金额': [500, 750, 1000, 1250]}\n",
    "\n",
    "df = pd.DataFrame(data)\n",
    "\n",
    "# 按照产品分组，并应用多个聚合函数\n",
    "result = df.groupby('产品').agg({'销售数量': 'sum', '销售金额': ['mean', 'max']})\n",
    "\n",
    "print(result)"
   ]
  },
  {
   "cell_type": "code",
   "execution_count": 4,
   "metadata": {},
   "outputs": [
    {
     "name": "stdout",
     "output_type": "stream",
     "text": [
      "原始DataFrame:\n",
      "      Name  Age  Salary\n",
      "0    Alice   25    5000\n",
      "1      Bob   30    6000\n",
      "2  Charlie   35    7000\n",
      "3    Alice   40    8000\n",
      "4      Bob   45    9000\n",
      "Alice\n",
      "    Name  Age  Salary\n",
      "0  Alice   25    5000\n",
      "3  Alice   40    8000\n",
      "Bob\n",
      "  Name  Age  Salary\n",
      "1  Bob   30    6000\n",
      "4  Bob   45    9000\n",
      "Charlie\n",
      "      Name  Age  Salary\n",
      "2  Charlie   35    7000\n"
     ]
    }
   ],
   "source": [
    "import pandas as pd\n",
    "\n",
    "# 创建示例DataFrame\n",
    "data = {'Name': ['Alice', 'Bob', 'Charlie', 'Alice', 'Bob'],\n",
    "        'Age': [25, 30, 35, 40, 45],\n",
    "        'Salary': [5000, 6000, 7000, 8000, 9000]}\n",
    "df = pd.DataFrame(data)\n",
    "print(\"原始DataFrame:\")\n",
    "print(df)\n",
    "grouped=df.groupby('Name')\n",
    "for Age,Salary in grouped:\n",
    "    print(Age)\n",
    "    print(Salary)"
   ]
  },
  {
   "cell_type": "code",
   "execution_count": 6,
   "metadata": {},
   "outputs": [
    {
     "name": "stdout",
     "output_type": "stream",
     "text": [
      "        sum   mean       std\n",
      "Team                        \n",
      "A     163.5  81.75  8.131728\n",
      "B     160.5  80.25  1.060660\n",
      "C     161.0  80.50  7.778175\n",
      "D      89.0  89.00       NaN\n"
     ]
    }
   ],
   "source": [
    "import pandas as pd\n",
    "import numpy as np\n",
    "df_data={'Team':['A','B','C','B','A','D','C'],\n",
    "         'Rank':[1,2,2,3,3,4,1],\n",
    "         'Year':[2018,2019,2020,2019,2018,2020,2021],\n",
    "         'Points':[87.5,81,86,79.5,76,89,75]}\n",
    "df=pd.DataFrame(df_data)\n",
    "grouped=df.groupby('Team')\n",
    "agg=grouped['Points'].agg([np.sum,np.mean,np.std])\n",
    "print(agg)\n",
    "\n"
   ]
  },
  {
   "cell_type": "markdown",
   "metadata": {},
   "source": [
    "    DataFrame.groupby(by=None, axis=0, level=None, as_index=True, sort=True, group_keys=True, squeeze=False, observed=False, dropna=True)[source]"
   ]
  },
  {
   "cell_type": "code",
   "execution_count": 7,
   "metadata": {},
   "outputs": [
    {
     "name": "stdout",
     "output_type": "stream",
     "text": [
      "  group  value  group_mean  normalized_value  filled_value  rank\n",
      "0     A      1         1.5         -0.707107             1   1.0\n",
      "1     A      2         1.5          0.707107             2   2.0\n",
      "2     B      3         4.0         -1.000000             3   1.0\n",
      "3     B      4         4.0          0.000000             4   2.0\n",
      "4     B      5         4.0          1.000000             5   3.0\n"
     ]
    }
   ],
   "source": [
    "import pandas as pd\n",
    "\n",
    "# 创建示例数据\n",
    "data = {\n",
    "    'group': ['A', 'A', 'B', 'B', 'B'],\n",
    "    'value': [1, 2, 3, 4, 5]\n",
    "}\n",
    "df = pd.DataFrame(data)\n",
    "\n",
    "# 分组计算平均值\n",
    "df['group_mean'] = df.groupby('group')['value'].transform('mean')\n",
    "\n",
    "# 数据标准化\n",
    "df['normalized_value'] = df.groupby('group')['value'].transform(lambda x: (x - x.mean()) / x.std())\n",
    "\n",
    "# 缺失值填充\n",
    "df['filled_value'] = df.groupby('group')['value'].transform(lambda x: x.fillna(x.mean()))\n",
    "\n",
    "# 排名计算\n",
    "df['rank'] = df.groupby('group')['value'].transform(lambda x: x.rank())\n",
    "\n",
    "print(df)"
   ]
  },
  {
   "cell_type": "markdown",
   "metadata": {},
   "source": [
    "### 数据过滤"
   ]
  },
  {
   "cell_type": "code",
   "execution_count": null,
   "metadata": {},
   "outputs": [],
   "source": [
    "import pandas as pd\n",
    "\n",
    "# 创建示例数据\n",
    "data = {\n",
    "    'group': ['A', 'A', 'B', 'B', 'B'],\n",
    "    'value': [1, 2, 3, 4, 5]\n",
    "}\n",
    "df = pd.DataFrame(data)\n",
    "\n",
    "# 分组计算平均值\n",
    "grouped = df.groupby('group')\n",
    "\n",
    "# 筛选分组的条件\n",
    "condition = lambda x: x['value'].mean() > 3\n",
    "\n",
    "# 对分组进行筛选\n",
    "filtered_groups = grouped.filter(condition)\n",
    "\n",
    "print(filtered_groups)"
   ]
  },
  {
   "cell_type": "markdown",
   "metadata": {},
   "source": [
    "## 6 合并/连接"
   ]
  },
  {
   "cell_type": "markdown",
   "metadata": {},
   "source": [
    "    DataFrame.merge(right, how='inner', on=None, left_on=None, right_on=None, left_index=False, right_index=False, sort=False, suffixes=('_x', '_y'), copy=True, indicator=False, validate=None)"
   ]
  },
  {
   "cell_type": "code",
   "execution_count": 3,
   "metadata": {},
   "outputs": [
    {
     "name": "stdout",
     "output_type": "stream",
     "text": [
      "基于一个键进行合并：\n",
      "  key  value1  value2\n",
      "0   B       2       4\n",
      "1   C       3       5\n",
      "\n",
      "基于多个键进行合并：\n",
      "  key  value1  value2\n",
      "0   B       2       4\n",
      "1   C       3       5\n",
      "\n",
      "左连接：\n",
      "  key  value1  value2\n",
      "0   A       1     NaN\n",
      "1   B       2     4.0\n",
      "2   C       3     5.0\n",
      "\n",
      "右连接：\n",
      "  key  value1  value2\n",
      "0   B     2.0       4\n",
      "1   C     3.0       5\n",
      "2   D     NaN       6\n",
      "\n",
      "外连接：\n",
      "  key  value1  value2\n",
      "0   A     1.0     NaN\n",
      "1   B     2.0     4.0\n",
      "2   C     3.0     5.0\n",
      "3   D     NaN     6.0\n",
      "\n"
     ]
    }
   ],
   "source": [
    "import pandas as pd\n",
    "\n",
    "# 创建示例数据\n",
    "data1 = {\n",
    "    'key': ['A', 'B', 'C'],\n",
    "    'value1': [1, 2, 3]\n",
    "}\n",
    "data2 = {\n",
    "    'key': ['B', 'C', 'D'],\n",
    "    'value2': [4, 5, 6]\n",
    "}\n",
    "df1 = pd.DataFrame(data1)\n",
    "df2 = pd.DataFrame(data2)\n",
    "\n",
    "# 基于一个键进行合并\n",
    "merged_df1 = df1.merge(df2, on='key')\n",
    "print(\"基于一个键进行合并：\")\n",
    "print(merged_df1)\n",
    "print()\n",
    "\n",
    "# 基于多个键进行合并,可以添加多个变量名\n",
    "merged_df2 = df1.merge(df2, on=['key'])\n",
    "print(\"基于多个键进行合并：\")\n",
    "print(merged_df2)\n",
    "print()\n",
    "\n",
    "# 左连接，使用左侧的键值\n",
    "merged_df3 = df1.merge(df2, how='left', on='key')\n",
    "print(\"左连接：\")\n",
    "print(merged_df3)\n",
    "print()\n",
    "\n",
    "# 右连接\n",
    "merged_df4 = df1.merge(df2, how='right', on='key')\n",
    "print(\"右连接：\")\n",
    "print(merged_df4)\n",
    "print()\n",
    "\n",
    "# 外连接\n",
    "merged_df5 = df1.merge(df2, how='outer', on='key')\n",
    "print(\"外连接：\")\n",
    "print(merged_df5)\n",
    "print()\n"
   ]
  },
  {
   "cell_type": "markdown",
   "metadata": {},
   "source": [
    "## 7 级联"
   ]
  },
  {
   "cell_type": "markdown",
   "metadata": {},
   "source": [
    "### 7.1 concat()函数"
   ]
  },
  {
   "cell_type": "code",
   "execution_count": 1,
   "metadata": {},
   "outputs": [
    {
     "name": "stdout",
     "output_type": "stream",
     "text": [
      "Concatenation along axis 0:\n",
      "   A   B\n",
      "0  1   4\n",
      "1  2   5\n",
      "2  3   6\n",
      "0  7  10\n",
      "1  8  11\n",
      "2  9  12\n",
      "\n",
      "Concatenation along axis 1:\n",
      "   A  B  A   B\n",
      "0  1  4  7  10\n",
      "1  2  5  8  11\n",
      "2  3  6  9  12\n",
      "\n",
      "Appending rows:\n",
      "    A   B\n",
      "0   1   4\n",
      "1   2   5\n",
      "2   3   6\n",
      "0  13  15\n",
      "1  14  16\n",
      "\n",
      "Appending columns:\n",
      "   A  B   C\n",
      "0  1  4  17\n",
      "1  2  5  18\n",
      "2  3  6  19\n"
     ]
    }
   ],
   "source": [
    "import pandas as pd\n",
    "\n",
    "# 创建两个数据框\n",
    "df1 = pd.DataFrame({'A': [1, 2, 3], 'B': [4, 5, 6]})\n",
    "df2 = pd.DataFrame({'A': [7, 8, 9], 'B': [10, 11, 12]})\n",
    "\n",
    "# 沿轴0（行）连接数据框，纵向合并\n",
    "result1 = pd.concat([df1, df2], axis=0)\n",
    "print(\"Concatenation along axis 0:\")\n",
    "print(result1)\n",
    "print()\n",
    "\n",
    "# 沿轴1（列）连接数据框，横向合并\n",
    "result2 = pd.concat([df1, df2], axis=1)\n",
    "print(\"Concatenation along axis 1:\")\n",
    "print(result2)\n",
    "print()\n",
    "\n",
    "# 添加一个新的数据框作为行\n",
    "df3 = pd.DataFrame({'A': [13, 14], 'B': [15, 16]})\n",
    "result3 = pd.concat([df1, df3], axis=0)\n",
    "print(\"Appending rows:\")\n",
    "print(result3)\n",
    "print()\n",
    "\n",
    "# 添加一个新的数据框作为列\n",
    "df4 = pd.DataFrame({'C': [17, 18, 19]})\n",
    "result4 = pd.concat([df1, df4], axis=1)\n",
    "print(\"Appending columns:\")\n",
    "print(result4)"
   ]
  },
  {
   "cell_type": "markdown",
   "metadata": {},
   "source": [
    "### 7.2 append()函数"
   ]
  },
  {
   "cell_type": "code",
   "execution_count": 5,
   "metadata": {},
   "outputs": [
    {
     "name": "stdout",
     "output_type": "stream",
     "text": [
      "Appending a DataFrame:\n",
      "   A   B\n",
      "0  1   4\n",
      "1  2   5\n",
      "2  3   6\n",
      "0  7  10\n",
      "1  8  11\n",
      "2  9  12\n",
      "\n",
      "Appending a dictionary as a row:\n",
      "    A   B\n",
      "0   1   4\n",
      "1   2   5\n",
      "2   3   6\n",
      "3  10  20\n"
     ]
    },
    {
     "name": "stderr",
     "output_type": "stream",
     "text": [
      "C:\\Users\\86138\\AppData\\Local\\Temp\\ipykernel_11760\\2130090201.py:8: FutureWarning: The frame.append method is deprecated and will be removed from pandas in a future version. Use pandas.concat instead.\n",
      "  result1 = df1.append(df2)\n",
      "C:\\Users\\86138\\AppData\\Local\\Temp\\ipykernel_11760\\2130090201.py:20: FutureWarning: The frame.append method is deprecated and will be removed from pandas in a future version. Use pandas.concat instead.\n",
      "  result3 = df1.append(data, ignore_index=True)\n"
     ]
    }
   ],
   "source": [
    "import pandas as pd\n",
    "\n",
    "# 创建两个数据框\n",
    "df1 = pd.DataFrame({'A': [1, 2, 3], 'B': [4, 5, 6]})\n",
    "df2 = pd.DataFrame({'A': [7, 8, 9], 'B': [10, 11, 12]})\n",
    "\n",
    "# 将df2追加到df1的末尾\n",
    "result1 = df1.append(df2)\n",
    "print(\"Appending a DataFrame:\")\n",
    "print(result1)\n",
    "print()\n",
    "\n",
    "# 创建序列\n",
    "s = pd.Series([7, 8, 9])\n",
    "\n",
    "# 创建一个字典\n",
    "data = {'A': 10, 'B': 20}\n",
    "\n",
    "# 将字典追加为新的行\n",
    "result3 = df1.append(data, ignore_index=True)\n",
    "print(\"Appending a dictionary as a row:\")\n",
    "print(result3)"
   ]
  },
  {
   "cell_type": "markdown",
   "metadata": {},
   "source": [
    "### 7.3 时间序列"
   ]
  },
  {
   "cell_type": "code",
   "execution_count": 11,
   "metadata": {},
   "outputs": [
    {
     "name": "stdout",
     "output_type": "stream",
     "text": [
      "当前时间：2024-01-26 10:26:18.942229\n",
      "创建一个时间戳:2019-01-23 00:00:00\n",
      "时间戳转时间:2020-05-05 13:54:40\n",
      "创建一个时间范围:\n",
      "[datetime.time(12, 0) datetime.time(12, 30) datetime.time(13, 0)\n",
      " datetime.time(13, 30) datetime.time(14, 0) datetime.time(14, 30)\n",
      " datetime.time(15, 0) datetime.time(15, 30) datetime.time(16, 0)\n",
      " datetime.time(16, 30) datetime.time(17, 0) datetime.time(17, 30)\n",
      " datetime.time(18, 0) datetime.time(18, 30) datetime.time(19, 0)\n",
      " datetime.time(19, 30) datetime.time(20, 0) datetime.time(20, 30)\n",
      " datetime.time(21, 0) datetime.time(21, 30) datetime.time(22, 0)\n",
      " datetime.time(22, 30) datetime.time(23, 0) datetime.time(23, 30)]\n",
      "改变时间的频率:\n",
      "[datetime.time(12, 0) datetime.time(13, 0) datetime.time(14, 0)\n",
      " datetime.time(15, 0) datetime.time(16, 0) datetime.time(17, 0)\n",
      " datetime.time(18, 0) datetime.time(19, 0) datetime.time(20, 0)\n",
      " datetime.time(21, 0) datetime.time(22, 0) datetime.time(23, 0)]\n",
      "转化为时间戳:\n",
      "0   2009-07-31\n",
      "1   2019-10-10\n",
      "2          NaT\n",
      "dtype: datetime64[ns]\n",
      "时间转换:\n",
      "DatetimeIndex(['2019-01-23', '2019-12-31', 'NaT'], dtype='datetime64[ns]', freq=None)\n"
     ]
    },
    {
     "name": "stderr",
     "output_type": "stream",
     "text": [
      "C:\\Users\\86138\\AppData\\Local\\Temp\\ipykernel_11760\\664696687.py:2: FutureWarning: The pandas.datetime class is deprecated and will be removed from pandas in a future version. Import from datetime module instead.\n",
      "  print(\"当前时间：{}\".format(pd.datetime.now()))\n"
     ]
    }
   ],
   "source": [
    "import pandas as pd\n",
    "print(\"当前时间：{}\".format(pd.datetime.now()))\n",
    "\n",
    "pd_time=pd.Timestamp('2019-01-23')\n",
    "print('创建一个时间戳:{}'.format(pd_time))\n",
    "\n",
    "pd_time=pd.Timestamp(1588686880,unit='s')\n",
    "print(\"时间戳转时间:{}\".format(pd_time))\n",
    "\n",
    "pd_time=pd.date_range('12:00','23:59',freq='30min').time\n",
    "print(\"创建一个时间范围:\\n{}\".format(pd_time))\n",
    "\n",
    "pd_time=pd.date_range(\"12:00\",\"23:59\",freq=\"H\").time\n",
    "print(\"改变时间的频率:\\n{}\".format(pd_time))\n",
    "\n",
    "pd_time=pd.to_datetime(pd.Series(['Jul 31 , 2009','2019-10-10',None]))\n",
    "print(\"转化为时间戳:\\n{}\".format(pd_time))\n",
    "\n",
    "pd_time=pd.to_datetime(['2019/01/23','2019/12/31',None])\n",
    "print(\"时间转换:\\n{}\".format(pd_time))\n"
   ]
  },
  {
   "cell_type": "markdown",
   "metadata": {},
   "source": [
    "## 8 日期功能"
   ]
  },
  {
   "cell_type": "code",
   "execution_count": 13,
   "metadata": {},
   "outputs": [
    {
     "name": "stdout",
     "output_type": "stream",
     "text": [
      "DatetimeIndex(['2024-01-26', '2024-01-27', '2024-01-28', '2024-01-29',\n",
      "               '2024-01-30'],\n",
      "              dtype='datetime64[ns]', freq='D')\n"
     ]
    }
   ],
   "source": [
    "import pandas as pd\n",
    "date_list=pd.date_range('2024-01-26',periods=5)\n",
    "print(date_list)"
   ]
  }
 ],
 "metadata": {
  "kernelspec": {
   "display_name": "Python 3",
   "language": "python",
   "name": "python3"
  },
  "language_info": {
   "codemirror_mode": {
    "name": "ipython",
    "version": 3
   },
   "file_extension": ".py",
   "mimetype": "text/x-python",
   "name": "python",
   "nbconvert_exporter": "python",
   "pygments_lexer": "ipython3",
   "version": "3.11.2"
  },
  "orig_nbformat": 4
 },
 "nbformat": 4,
 "nbformat_minor": 2
}
